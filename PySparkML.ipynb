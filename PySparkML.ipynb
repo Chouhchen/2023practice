{
 "cells": [
  {
   "cell_type": "code",
   "execution_count": 1,
   "id": "5f16ac23",
   "metadata": {},
   "outputs": [
    {
     "name": "stdout",
     "output_type": "stream",
     "text": [
      "23/03/04 20:41:47 WARN Utils: Your hostname, Huis-MacBook-Pro.local resolves to a loopback address: 127.0.0.1; using 192.168.71.223 instead (on interface en0)\n",
      "23/03/04 20:41:47 WARN Utils: Set SPARK_LOCAL_IP if you need to bind to another address\n"
     ]
    },
    {
     "name": "stderr",
     "output_type": "stream",
     "text": [
      "Setting default log level to \"WARN\".\n",
      "To adjust logging level use sc.setLogLevel(newLevel). For SparkR, use setLogLevel(newLevel).\n"
     ]
    },
    {
     "name": "stdout",
     "output_type": "stream",
     "text": [
      "23/03/04 20:41:48 WARN NativeCodeLoader: Unable to load native-hadoop library for your platform... using builtin-java classes where applicable\n"
     ]
    }
   ],
   "source": [
    "## a simple ML model use a person's age and experience to predict his/her salary\n",
    "from pyspark.sql import SparkSession\n",
    "spark=SparkSession.builder.appName('Missing').getOrCreate()"
   ]
  },
  {
   "cell_type": "code",
   "execution_count": 2,
   "id": "6c6750cf",
   "metadata": {},
   "outputs": [],
   "source": [
    "training = spark.read.csv('MLtest.csv',header=True,inferSchema=True)"
   ]
  },
  {
   "cell_type": "code",
   "execution_count": 3,
   "id": "3ffd97ba",
   "metadata": {},
   "outputs": [
    {
     "name": "stdout",
     "output_type": "stream",
     "text": [
      "+-----+---+----------+----------+------+\n",
      "| Name|Age|Department|Experience|Salary|\n",
      "+-----+---+----------+----------+------+\n",
      "| Abby| 18|     Admin|         1| 20000|\n",
      "|  Bob| 20|       IOT|         1| 30000|\n",
      "|Cathy| 31|       IOT|         5| 40000|\n",
      "| Dave| 50|     Admin|        20| 60000|\n",
      "|Frank| 40|      Data|        10| 50000|\n",
      "|Grace| 45|     Admin|        15| 30000|\n",
      "+-----+---+----------+----------+------+\n",
      "\n"
     ]
    }
   ],
   "source": [
    "training.show()\n"
   ]
  },
  {
   "cell_type": "code",
   "execution_count": 4,
   "id": "dc4026ff",
   "metadata": {},
   "outputs": [
    {
     "data": {
      "text/plain": [
       "['Name', 'Age', 'Department', 'Experience', 'Salary']"
      ]
     },
     "execution_count": 4,
     "metadata": {},
     "output_type": "execute_result"
    }
   ],
   "source": [
    "training.columns"
   ]
  },
  {
   "cell_type": "code",
   "execution_count": 46,
   "id": "63b61e20",
   "metadata": {},
   "outputs": [
    {
     "name": "stdout",
     "output_type": "stream",
     "text": [
      "root\n",
      " |-- Name: string (nullable = true)\n",
      " |-- Age: integer (nullable = true)\n",
      " |-- Department: string (nullable = true)\n",
      " |-- Experience: integer (nullable = true)\n",
      " |-- Salary: integer (nullable = true)\n",
      "\n"
     ]
    }
   ],
   "source": [
    "training.printSchema()"
   ]
  },
  {
   "cell_type": "code",
   "execution_count": 5,
   "id": "86eecef9",
   "metadata": {},
   "outputs": [],
   "source": [
    "## change categorical features into numbers\n",
    "from pyspark.ml.feature import StringIndexer"
   ]
  },
  {
   "cell_type": "code",
   "execution_count": 9,
   "id": "c86991cd",
   "metadata": {},
   "outputs": [
    {
     "name": "stdout",
     "output_type": "stream",
     "text": [
      "+-----+---+----------+----------+------+------------+\n",
      "| Name|Age|Department|Experience|Salary|dept_indexed|\n",
      "+-----+---+----------+----------+------+------------+\n",
      "| Abby| 18|     Admin|         1| 20000|         0.0|\n",
      "|  Bob| 20|       IOT|         1| 30000|         1.0|\n",
      "|Cathy| 31|       IOT|         5| 40000|         1.0|\n",
      "| Dave| 50|     Admin|        20| 60000|         0.0|\n",
      "|Frank| 40|      Data|        10| 50000|         2.0|\n",
      "|Grace| 45|     Admin|        15| 30000|         0.0|\n",
      "+-----+---+----------+----------+------+------------+\n",
      "\n"
     ]
    }
   ],
   "source": [
    "indexer=StringIndexer(inputCol=\"Department\",outputCol=\"dept_indexed\")\n",
    "df_r=indexer.fit(training).transform(training)\n",
    "df_r.show()"
   ]
  },
  {
   "cell_type": "code",
   "execution_count": 52,
   "id": "82ed74a2",
   "metadata": {},
   "outputs": [],
   "source": [
    "## VectorAssember : group columns into independent feature\n",
    "from pyspark.ml.feature import VectorAssembler\n",
    "featureassembler=VectorAssembler(inputCols=[\"Age\", \"Experience\"],outputCol=\"independent feature\")"
   ]
  },
  {
   "cell_type": "code",
   "execution_count": 55,
   "id": "6f8be053",
   "metadata": {},
   "outputs": [
    {
     "name": "stdout",
     "output_type": "stream",
     "text": [
      "+-----+---+----------+----------+------+-------------------+\n",
      "| Name|Age|Department|Experience|Salary|independent feature|\n",
      "+-----+---+----------+----------+------+-------------------+\n",
      "| Abby| 18|     Admin|         1| 20000|         [18.0,1.0]|\n",
      "|  Bob| 20|       IOT|         1| 30000|         [20.0,1.0]|\n",
      "|Cathy| 31|       IOT|         5| 40000|         [31.0,5.0]|\n",
      "| Dave| 50|     Admin|        20| 60000|        [50.0,20.0]|\n",
      "|Frank| 40|      Data|        10| 50000|        [40.0,10.0]|\n",
      "|Grace| 45|     Admin|        15| 30000|        [45.0,15.0]|\n",
      "+-----+---+----------+----------+------+-------------------+\n",
      "\n"
     ]
    }
   ],
   "source": [
    "output=featureassembler.transform(training)\n",
    "output.show()"
   ]
  },
  {
   "cell_type": "code",
   "execution_count": 56,
   "id": "9b97f2da",
   "metadata": {},
   "outputs": [],
   "source": [
    "## input feature: 'independent feature', output feature: 'salary'\n",
    "finalized_data=output.select(\"independent feature\", \"Salary\")"
   ]
  },
  {
   "cell_type": "code",
   "execution_count": 57,
   "id": "a11fa9cd",
   "metadata": {},
   "outputs": [
    {
     "name": "stdout",
     "output_type": "stream",
     "text": [
      "+-------------------+------+\n",
      "|independent feature|Salary|\n",
      "+-------------------+------+\n",
      "|         [18.0,1.0]| 20000|\n",
      "|         [20.0,1.0]| 30000|\n",
      "|         [31.0,5.0]| 40000|\n",
      "|        [50.0,20.0]| 60000|\n",
      "|        [40.0,10.0]| 50000|\n",
      "|        [45.0,15.0]| 30000|\n",
      "+-------------------+------+\n",
      "\n"
     ]
    }
   ],
   "source": [
    "finalized_data.show()"
   ]
  },
  {
   "cell_type": "code",
   "execution_count": 60,
   "id": "e308d0fa",
   "metadata": {},
   "outputs": [
    {
     "name": "stdout",
     "output_type": "stream",
     "text": [
      "23/03/04 20:10:29 WARN Instrumentation: [be25e7fc] regParam is zero, which might cause numerical instability and overfitting.\n",
      "23/03/04 20:10:29 WARN InstanceBuilder$NativeBLAS: Failed to load implementation from:dev.ludovic.netlib.blas.JNIBLAS\n",
      "23/03/04 20:10:29 WARN InstanceBuilder$NativeBLAS: Failed to load implementation from:dev.ludovic.netlib.blas.ForeignLinkerBLAS\n",
      "23/03/04 20:10:29 WARN InstanceBuilder$NativeLAPACK: Failed to load implementation from:dev.ludovic.netlib.lapack.JNILAPACK\n"
     ]
    },
    {
     "name": "stderr",
     "output_type": "stream",
     "text": [
      "\r",
      "[Stage 29:>                                                         (0 + 1) / 1]\r",
      "\r",
      "                                                                                \r"
     ]
    }
   ],
   "source": [
    "from pyspark.ml.regression import LinearRegression\n",
    "## training test slipt\n",
    "train_data, test_data=finalized_data.randomSplit([0.75,0.25])\n",
    "regressor=LinearRegression(featuresCol='independent feature', labelCol='Salary')\n",
    "regressor=regressor.fit(train_data)"
   ]
  },
  {
   "cell_type": "code",
   "execution_count": 61,
   "id": "76a41cd5",
   "metadata": {},
   "outputs": [
    {
     "data": {
      "text/plain": [
       "DenseVector([908.9725, -99.8871])"
      ]
     },
     "execution_count": 61,
     "metadata": {},
     "output_type": "execute_result"
    }
   ],
   "source": [
    "regressor.coefficients"
   ]
  },
  {
   "cell_type": "code",
   "execution_count": 62,
   "id": "82262c0b",
   "metadata": {},
   "outputs": [
    {
     "data": {
      "text/plain": [
       "7488.491270737647"
      ]
     },
     "execution_count": 62,
     "metadata": {},
     "output_type": "execute_result"
    }
   ],
   "source": [
    "regressor.intercept"
   ]
  },
  {
   "cell_type": "code",
   "execution_count": 64,
   "id": "c6491417",
   "metadata": {},
   "outputs": [],
   "source": [
    "## prediction\n",
    "pred_results=regressor.evaluate(test_data)"
   ]
  },
  {
   "cell_type": "code",
   "execution_count": 66,
   "id": "44bd39fc",
   "metadata": {},
   "outputs": [
    {
     "name": "stdout",
     "output_type": "stream",
     "text": [
      "+-------------------+------+-----------------+\n",
      "|independent feature|Salary|       prediction|\n",
      "+-------------------+------+-----------------+\n",
      "|         [31.0,5.0]| 40000|35167.20229305997|\n",
      "+-------------------+------+-----------------+\n",
      "\n"
     ]
    }
   ],
   "source": [
    "pred_results.predictions.show()"
   ]
  },
  {
   "cell_type": "code",
   "execution_count": 67,
   "id": "b4ec5cae",
   "metadata": {},
   "outputs": [
    {
     "data": {
      "text/plain": [
       "(23355933.676204808, -2)"
      ]
     },
     "execution_count": 67,
     "metadata": {},
     "output_type": "execute_result"
    }
   ],
   "source": [
    "pred_results.meanSquaredError, pred_results.degreesOfFreedom"
   ]
  },
  {
   "cell_type": "code",
   "execution_count": null,
   "id": "14433c76",
   "metadata": {},
   "outputs": [],
   "source": []
  }
 ],
 "metadata": {
  "kernelspec": {
   "display_name": "Python 3 (ipykernel)",
   "language": "python",
   "name": "python3"
  },
  "language_info": {
   "codemirror_mode": {
    "name": "ipython",
    "version": 3
   },
   "file_extension": ".py",
   "mimetype": "text/x-python",
   "name": "python",
   "nbconvert_exporter": "python",
   "pygments_lexer": "ipython3",
   "version": "3.9.13"
  }
 },
 "nbformat": 4,
 "nbformat_minor": 5
}
