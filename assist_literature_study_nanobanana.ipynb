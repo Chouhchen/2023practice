{
  "nbformat": 4,
  "nbformat_minor": 0,
  "metadata": {
    "colab": {
      "provenance": [],
      "authorship_tag": "ABX9TyPjkatQhF51FMzsuLZxupXV",
      "include_colab_link": true
    },
    "kernelspec": {
      "name": "python3",
      "display_name": "Python 3"
    },
    "language_info": {
      "name": "python"
    }
  },
  "cells": [
    {
      "cell_type": "markdown",
      "metadata": {
        "id": "view-in-github",
        "colab_type": "text"
      },
      "source": [
        "<a href=\"https://colab.research.google.com/github/Chouhchen/2023practice/blob/main/assist_literature_study_nanobanana.ipynb\" target=\"_parent\"><img src=\"https://colab.research.google.com/assets/colab-badge.svg\" alt=\"Open In Colab\"/></a>"
      ]
    },
    {
      "cell_type": "code",
      "execution_count": null,
      "metadata": {
        "id": "o_kFnFvWpSxK"
      },
      "outputs": [],
      "source": [
        "import os\n",
        "from google import genai\n",
        "from PIL import Image\n",
        "from io import BytesIO\n",
        "from IPython.display import display\n",
        "\n",
        "# --- IMPORTANT ---\n",
        "# Paste your API key here. For better security, we recommend using environment variables.\n",
        "# For example: API_KEY=os.environ.get(\"GEMINI_API_KEY\")\n",
        "API_KEY = \" \"\n",
        "# -----------------\n",
        "\n",
        "# Configure the client with your API key\n",
        "client = genai.Client(api_key=API_KEY)\n",
        "\n",
        "# Get the poem and author input from the user\n",
        "poem = input(\"Enter the full text of the poem: \")\n",
        "author = input(\"Enter the name of the poet: \")\n",
        "\n",
        "# Split the poem into sections (by sentence or line)\n",
        "poem_sections = [line.strip() for line in poem.split('.') if line.strip()]\n",
        "\n",
        "# The base prompt\n",
        "base_prompt = \"Create a photorealistic image that captures {}'s signature style and tone, inspired by the following line of the poem:\\n\\n{}\"\n",
        "# Generate the prompts\n",
        "prompts = [base_prompt.format(author, section) for section in poem_sections]\n",
        "\n",
        "print(\"Generating images...\")\n",
        "\n",
        "for i, prompt in enumerate(prompts):\n",
        "    # Call the API to generate the image\n",
        "    response = client.models.generate_content(\n",
        "        model=\"gemini-2.5-flash-image-preview\",\n",
        "        contents=prompt,\n",
        "    )\n",
        "\n",
        "    image_parts = [\n",
        "        part.inline_data.data\n",
        "        for part in response.candidates[0].content.parts\n",
        "        if part.inline_data\n",
        "    ]\n",
        "\n",
        "    if image_parts:\n",
        "        image = Image.open(BytesIO(image_parts[0]))\n",
        "        image.save(f'{author.replace(\" \", \"_\")}_poem_section_{i+1}.png')\n",
        "        display(image)"
      ]
    }
  ]
}